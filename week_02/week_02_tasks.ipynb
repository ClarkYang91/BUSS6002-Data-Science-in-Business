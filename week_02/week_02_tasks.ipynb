{
 "cells": [
  {
   "cell_type": "code",
   "execution_count": 5,
   "metadata": {},
   "outputs": [
    {
     "data": {
      "image/png": "[encoded data removed]",
      "text/plain": [
       "<Figure size 720x360 with 1 Axes>"
      ]
     },
     "metadata": {
      "needs_background": "light"
     },
     "output_type": "display_data"
    }
   ],
   "source": [
    "# Task 1\n",
    "%matplotlib inline\n",
    "\n",
    "import pandas as pd\n",
    "import matplotlib.pyplot as plt\n",
    "\n",
    "marketing = pd.read_csv(\"DirectMarketing.csv\")\n",
    "\n",
    "catalogs = marketing[\"Catalogs\"]\n",
    "amount_spent = marketing[\"AmountSpent\"]\n",
    "\n",
    "\n",
    "\n",
    "plt.figure(figsize=(10,5))\n",
    "plt.scatter(catalogs, amount_spent, alpha = 0.1)\n",
    "\n",
    "plt.xlabel(\"Number of Catalogs\")\n",
    "plt.ylabel(\"Amount Spent\")\n",
    "plt.title(\"Amount Spent vs Number of Catalogs\")\n",
    "\n",
    "# plt.xticks(range(30)) # draw your own axis\n",
    "# plt.xticks([6,12,18,24])\n",
    "\n",
    "plt.show()\n"
   ]
  },
  {
   "cell_type": "code",
   "execution_count": 8,
   "metadata": {},
   "outputs": [
    {
     "data": {
      "text/plain": [
       "12    282\n",
       "6     252\n",
       "24    233\n",
       "18    233\n",
       "Name: Catalogs, dtype: int64"
      ]
     },
     "execution_count": 8,
     "metadata": {},
     "output_type": "execute_result"
    }
   ],
   "source": [
    "marketing[\"Catalogs\"].value_counts()#.nunique() 查找一列中有多少个unique的value\n"
   ]
  },
  {
   "cell_type": "markdown",
   "metadata": {},
   "source": [
    "<center><h1>BUSS6002 - Data Science in Business</h1></center>\n",
    "\n",
    "# Tutorial 2 Tasks\n",
    "\n",
    "## Task 1 - Exploratory Analysis\n",
    "\n",
    "The sales team wants to know if there is evidence of a relationship between the amount of catalogs sent to customers and the amount that they spend.\n",
    "\n",
    "Using the ``DirectMarketing.csv`` dataset:\n",
    "1. Create a scatter plot to visualise the relationship (x-axis is number of catalogs)\n",
    "2. Describe the relationship\n",
    "\n",
    "### Plotting with Clarity:\n",
    "\n",
    "Make sure to accurately label all axes and title with the following:\n",
    "\n",
    "- x-axis label: \"Number of Catalogs\"\n",
    "- y-axis label: \"Amount Spent\"\n",
    "- title: \"Amount Spent vs Number of Catalogs\"\n",
    "\n",
    "### Hint\n",
    "\n",
    "Use the ``alpha`` parameter of the ``scatter`` function to control the transparency of the points to better understand the density.\n",
    "\n",
    "    plt.scatter(... , ... , alpha = 0.1)\n",
    "\n",
    "\n",
    "## Task 2 - Historical Data \n",
    "\n",
    "The sales team wants to know what the trend of average customer spending is over the past 5 years. Each year the company randomly samples 1000 customers. You have already been given one year in the ``DirectMarketing.csv`` file.\n",
    "\n",
    "Helpfully the sales team has given you a new file called ``AmountSpent_13to17.csv``.\n",
    "\n",
    "Use this file to calculate the average (mean) customer spend per year. Present your results as a line plot. Don't forget to label all axes, title etc.\n",
    "\n",
    "### Your goal\n",
    "\n",
    "<img src=\"img/historical.png\" width=400>\n",
    "\n",
    "### Hint\n",
    "\n",
    "You can use the following code to label your x axis ticks:\n",
    "\n",
    "    plt.xticks( [1, 2, 3, 4, 5], ['2013', '2014', '2015', '2016', '2017'] )\n",
    "\n",
    "\n",
    "\n"
   ]
  },
  {
   "cell_type": "code",
   "execution_count": 10,
   "metadata": {},
   "outputs": [
    {
     "data": {
      "text/html": [
       "<div>\n",
       "<style scoped>\n",
       "    .dataframe tbody tr th:only-of-type {\n",
       "        vertical-align: middle;\n",
       "    }\n",
       "\n",
       "    .dataframe tbody tr th {\n",
       "        vertical-align: top;\n",
       "    }\n",
       "\n",
       "    .dataframe thead th {\n",
       "        text-align: right;\n",
       "    }\n",
       "</style>\n",
       "<table border=\"1\" class=\"dataframe\">\n",
       "  <thead>\n",
       "    <tr style=\"text-align: right;\">\n",
       "      <th></th>\n",
       "      <th>Unnamed: 0</th>\n",
       "      <th>2013</th>\n",
       "      <th>2014</th>\n",
       "      <th>2015</th>\n",
       "      <th>2016</th>\n",
       "      <th>2017</th>\n",
       "    </tr>\n",
       "  </thead>\n",
       "  <tbody>\n",
       "    <tr>\n",
       "      <th>0</th>\n",
       "      <td>0</td>\n",
       "      <td>3006</td>\n",
       "      <td>245</td>\n",
       "      <td>730</td>\n",
       "      <td>1339</td>\n",
       "      <td>755</td>\n",
       "    </tr>\n",
       "    <tr>\n",
       "      <th>1</th>\n",
       "      <td>1</td>\n",
       "      <td>1445</td>\n",
       "      <td>804</td>\n",
       "      <td>1183</td>\n",
       "      <td>1256</td>\n",
       "      <td>1318</td>\n",
       "    </tr>\n",
       "    <tr>\n",
       "      <th>2</th>\n",
       "      <td>2</td>\n",
       "      <td>2393</td>\n",
       "      <td>592</td>\n",
       "      <td>8</td>\n",
       "      <td>1625</td>\n",
       "      <td>296</td>\n",
       "    </tr>\n",
       "    <tr>\n",
       "      <th>3</th>\n",
       "      <td>3</td>\n",
       "      <td>3773</td>\n",
       "      <td>121</td>\n",
       "      <td>2572</td>\n",
       "      <td>2874</td>\n",
       "      <td>2436</td>\n",
       "    </tr>\n",
       "    <tr>\n",
       "      <th>4</th>\n",
       "      <td>4</td>\n",
       "      <td>294</td>\n",
       "      <td>42</td>\n",
       "      <td>2113</td>\n",
       "      <td>2413</td>\n",
       "      <td>1304</td>\n",
       "    </tr>\n",
       "  </tbody>\n",
       "</table>\n",
       "</div>"
      ],
      "text/plain": [
       "   Unnamed: 0  2013  2014  2015  2016  2017\n",
       "0           0  3006   245   730  1339   755\n",
       "1           1  1445   804  1183  1256  1318\n",
       "2           2  2393   592     8  1625   296\n",
       "3           3  3773   121  2572  2874  2436\n",
       "4           4   294    42  2113  2413  1304"
      ]
     },
     "execution_count": 10,
     "metadata": {},
     "output_type": "execute_result"
    }
   ],
   "source": [
    "import pandas as pd\n",
    "import matplotlib.pyplot as plt\n",
    "\n",
    "history_spent_amount = pd.read_csv(\"AmountSpent_13to17.csv\")\n",
    "\n",
    "history_spent_amount.head()"
   ]
  },
  {
   "cell_type": "code",
   "execution_count": 17,
   "metadata": {
    "scrolled": true
   },
   "outputs": [
    {
     "data": {
      "text/plain": [
       "2013    1016.669\n",
       "2014     898.632\n",
       "2015    1002.574\n",
       "2016    1182.256\n",
       "2017    1216.770\n",
       "dtype: float64"
      ]
     },
     "execution_count": 17,
     "metadata": {},
     "output_type": "execute_result"
    }
   ],
   "source": [
    "history_spent_amount_right = history_spent_amount.iloc[:,1:]\n",
    "history_spent_amount_right.head() \n",
    "history_spent_amount_right.mean()"
   ]
  },
  {
   "cell_type": "code",
   "execution_count": 18,
   "metadata": {},
   "outputs": [
    {
     "data": {
      "image/png": "[encoded data removed]",
      "text/plain": [
       "<Figure size 432x288 with 1 Axes>"
      ]
     },
     "metadata": {
      "needs_background": "light"
     },
     "output_type": "display_data"
    }
   ],
   "source": [
    "plt.plot(history_spent_amount_right.mean())\n",
    "\n",
    "plt.title(\"Historical Average Customer Spending\")\n",
    "plt.xlabel(\"Year\")\n",
    "plt.ylabel(\"Average Customer Spend\")\n",
    "\n",
    "plt.show()"
   ]
  }
 ],
 "metadata": {
  "kernelspec": {
   "display_name": "Python 3",
   "language": "python",
   "name": "python3"
  },
  "language_info": {
   "codemirror_mode": {
    "name": "ipython",
    "version": 3
   },
   "file_extension": ".py",
   "mimetype": "text/x-python",
   "name": "python",
   "nbconvert_exporter": "python",
   "pygments_lexer": "ipython3",
   "version": "3.6.8"
  }
 },
 "nbformat": 4,
 "nbformat_minor": 2
}
