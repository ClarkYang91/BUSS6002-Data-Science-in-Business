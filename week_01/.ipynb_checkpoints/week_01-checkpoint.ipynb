{
 "cells": [
  {
   "cell_type": "markdown",
   "metadata": {},
   "source": [
    "<center><h1>BUSS6002 - Data Science in Business</h1></center>\n",
    "\n",
    "#### Pre-Tutorial Checklist\n",
    " \n",
    "1. Install Anaconda on your laptop\n",
    "2. Confirm that Anaconda is installed properly\n",
    "3. Confirm that Jupyter works\n",
    "4. Bring your laptop to class\n",
    "\n",
    "# Tutorial 1 - Getting Started\n",
    "\n",
    "Welcome to the first tutorial for BUSS6002!\n",
    "\n",
    "During the tutorials of BUSS6002 we will spend a lot of time on practical application of the lectures.\n",
    "\n",
    "This means you will be coding (programming) in Python.\n",
    "\n",
    "**You might not have any coding experience and that's ok!** Your tutors are here to help you and provide any support you need.\n",
    "\n",
    "## Get Python 3\n",
    "\n",
    "Anaconda is a package that includes Python and related tools. It is free to download here:\n",
    "\n",
    "https://www.anaconda.com/download/\n",
    "\n",
    "**Please only use Python 3.**\n",
    "\n",
    "## Jupyter Notebooks\n",
    "\n",
    "Jupyter is a web-based environment for Python. It allows you to mix Python code and text, which makes it perfect for exploratory analysis! We will use Jupyter notebooks throughout the semester. Of course if you prefer you can use a different tool such as Spyder, Pycharm or even a plain text editor!\n",
    "\n",
    "If you want to know more about the different ways to use Python. Please refer to this weeks **PENCAST**.\n",
    "\n",
    "First open Anaconda Navigator then click the “Launch” button for Jupyter\n",
    "\n",
    "<img width=400 src=\"img/navigator.png\">\n",
    "\n",
    "Jupyter will open in your browser. \n",
    "\n",
    "<img width=400 src=\"img/jupyter_home.png\">\n",
    "\n",
    "Click the \"New\" button to make a new Python notebook.\n",
    "\n",
    "<img width=400 src=\"img/jupyter_example.png\">\n",
    "\n",
    "# Python\n",
    "\n",
    "## Hello World\n",
    "\n",
    "Python is an interpreted language, which means that it can be used interactively!\n",
    "\n",
    "Try the following code in your own Notebook"
   ]
  },
  {
   "cell_type": "code",
   "execution_count": 13,
   "metadata": {},
   "outputs": [
    {
     "name": "stdout",
     "output_type": "stream",
     "text": [
      "Hello World!\n",
      "hate dog\n",
      "hello lucy\n"
     ]
    }
   ],
   "source": [
    "def lucyHate(name):\n",
    "    x = name \n",
    "    print(\"hate \" + x)\n",
    "    \n",
    "#definition \n",
    "\n",
    "print(\"Hello World!\")\n",
    "lucyHate(\"dog\")\n",
    "print(\"hello lucy\")\n"
   ]
  },
  {
   "cell_type": "code",
   "execution_count": 14,
   "metadata": {},
   "outputs": [
    {
     "name": "stdout",
     "output_type": "stream",
     "text": [
      "Wlecome to my system, Please login first\n",
      "Please enter your name: 2\n",
      "Welcome2\n"
     ]
    }
   ],
   "source": [
    "print(\"Wlecome to my system, Please login first\")\n",
    "x = input(\"Please enter your name: \")\n",
    "\n",
    "#information vertification\n",
    "\n",
    "print(\"Welcome\" + x)"
   ]
  },
  {
   "cell_type": "markdown",
   "metadata": {},
   "source": [
    "What did we just do?\n",
    "\n",
    "- ``print`` is a function that displays the input on the screen\n",
    "- ``\"Hello World!\"`` is a string which is just a piece of text\n",
    "\n",
    "We will learn more about functions and strings later!\n",
    "\n",
    "## Variables\n",
    "\n",
    "Python stores data in variables.\n",
    "\n",
    "You may already be familiar with the concept of variables from algebra.\n",
    "\n",
    "Let’s start by creating a variable called “x” with the value of “10”."
   ]
  },
  {
   "cell_type": "code",
   "execution_count": 1,
   "metadata": {},
   "outputs": [],
   "source": [
    "x = 10"
   ]
  },
  {
   "cell_type": "code",
   "execution_count": null,
   "metadata": {},
   "outputs": [],
   "source": [
    "print(5228)"
   ]
  },
  {
   "cell_type": "markdown",
   "metadata": {},
   "source": [
    "We can check the value of x by printing it in the console"
   ]
  },
  {
   "cell_type": "code",
   "execution_count": null,
   "metadata": {},
   "outputs": [],
   "source": [
    "print(x)"
   ]
  },
  {
   "cell_type": "markdown",
   "metadata": {},
   "source": [
    "**TIP**: You can choose the name of your variables freely, so long as they do not match any existing special keywords or other defined function or library names. Keep your variable names short and meaningful.\n",
    "\n",
    "Python variables have one major difference from mathematics: variables are not always numeric.\n",
    "\n",
    "Every variable has a type. The type defines the behavior for the variable.\n",
    "\n",
    "Python’s numeric data types are:\n",
    "- int (Integers)\n",
    "- floats (Floating Point Numbers or Decimal Valued Numbers)\n",
    "- complex (Complex Numbers)\n",
    "\n",
    "To represent text, we use the string data type. Strings are denoted by wrapping the text in matching single or double quotation marks.\n",
    "\n",
    "Let’s experiment with some more variables:\n"
   ]
  },
  {
   "cell_type": "code",
   "execution_count": 21,
   "metadata": {
    "scrolled": true
   },
   "outputs": [
    {
     "name": "stdout",
     "output_type": "stream",
     "text": [
      "<class 'int'>\n",
      "<class 'float'>\n",
      "20 20.0\n",
      "<class 'float'>\n",
      "5.0\n",
      "Variable   Type     Data/Info\n",
      "-----------------------------\n",
      "demo       str      s\n",
      "name       str      lucy\n",
      "q          float    20.0\n",
      "x          int      10\n",
      "y          int      5\n",
      "z          int      15\n"
     ]
    }
   ],
   "source": [
    "y = 5\n",
    "z = x + y\n",
    "q = 20.0\n",
    "\n",
    "print(type(y))\n",
    "print(type(q))\n",
    "\n",
    "print(int(q),q)\n",
    "print(type(q))\n",
    "print(float(y))\n",
    "%whos"
   ]
  },
  {
   "cell_type": "code",
   "execution_count": 26,
   "metadata": {},
   "outputs": [
    {
     "name": "stdout",
     "output_type": "stream",
     "text": [
      "15\n"
     ]
    }
   ],
   "source": [
    "print(z)"
   ]
  },
  {
   "cell_type": "code",
   "execution_count": null,
   "metadata": {},
   "outputs": [],
   "source": [
    "t=66   #  type(varible)"
   ]
  },
  {
   "cell_type": "code",
   "execution_count": 22,
   "metadata": {},
   "outputs": [
    {
     "name": "stdout",
     "output_type": "stream",
     "text": [
      "<class 'int'>\n"
     ]
    }
   ],
   "source": [
    "print( type(z) )"
   ]
  },
  {
   "cell_type": "markdown",
   "metadata": {},
   "source": [
    "So far we have created three variables ``x, y, z``. What does creating variables mean? Well it means that Python stores the values for these variables in your computers memory. After running the above code our computers memory will look something like this:\n",
    "\n",
    "<img width=400 src=\"img/ram1.png\">\n",
    "\n",
    "We can check this by using the %whos command"
   ]
  },
  {
   "cell_type": "code",
   "execution_count": 31,
   "metadata": {},
   "outputs": [
    {
     "name": "stdout",
     "output_type": "stream",
     "text": [
      "Variable   Type     Data/Info\n",
      "-----------------------------\n",
      "demo       str      s\n",
      "name       str      lucy\n",
      "q          float    20.0\n",
      "x          int      10\n",
      "y          int      5\n",
      "z          int      15\n"
     ]
    }
   ],
   "source": [
    "%whos "
   ]
  },
  {
   "cell_type": "markdown",
   "metadata": {},
   "source": [
    "Let’s try another example"
   ]
  },
  {
   "cell_type": "code",
   "execution_count": null,
   "metadata": {},
   "outputs": [],
   "source": [
    "y = 10.5\n",
    "z = x + y"
   ]
  },
  {
   "cell_type": "code",
   "execution_count": null,
   "metadata": {},
   "outputs": [],
   "source": [
    "print(z)"
   ]
  },
  {
   "cell_type": "code",
   "execution_count": null,
   "metadata": {},
   "outputs": [],
   "source": [
    "print( type(z) )"
   ]
  },
  {
   "cell_type": "markdown",
   "metadata": {},
   "source": [
    "Notice that the type of Z is now a float not an integer and our memory looks like this:\n",
    "\n",
    "<img width=400 src=\"img/ram2.png\">\n",
    "\n",
    "We can do other mathematics operations on numbers:"
   ]
  },
  {
   "cell_type": "code",
   "execution_count": 37,
   "metadata": {},
   "outputs": [
    {
     "name": "stdout",
     "output_type": "stream",
     "text": [
      "12\n",
      "75\n",
      "7.5\n",
      "I love fly and swimming\n",
      "<built-in method count of str object at 0x00000000092FAC30>\n"
     ]
    }
   ],
   "source": [
    "print(z - 3) # Subtraction\n",
    "print(z * 5) # Multiplication\n",
    "print(z / 2) # Division\n"
   ]
  },
  {
   "cell_type": "markdown",
   "metadata": {},
   "source": [
    "Note that you can’t mix and match operators between data types. For example it is invalid to add or subtract an integer from a string.\n",
    "\n",
    "However often data types borrow the concepts of operators from other areas. For example you can join two strings together by using the + operator."
   ]
  },
  {
   "cell_type": "code",
   "execution_count": null,
   "metadata": {},
   "outputs": [],
   "source": [
    "my_string = \"Hello World!\"\n",
    "print(my_string)\n",
    "\n",
    "end_string = \" - from Steve\"\n",
    "print(my_string + end_string)"
   ]
  },
  {
   "cell_type": "markdown",
   "metadata": {},
   "source": [
    "Since creating strings places them in our computers memory, an updated model of the computers memory is\n",
    "\n",
    "<img width=400 src=\"img/ram3.png\">"
   ]
  },
  {
   "cell_type": "markdown",
   "metadata": {
    "collapsed": true
   },
   "source": [
    "## Lists\n",
    "\n",
    "Lists are a way to store an ordered collection of variables or objects. Let’s create a list and store it in the variable my_list."
   ]
  },
  {
   "cell_type": "code",
   "execution_count": 27,
   "metadata": {},
   "outputs": [
    {
     "name": "stdout",
     "output_type": "stream",
     "text": [
      "[1, 2, 4, 8, 16]\n"
     ]
    }
   ],
   "source": [
    "my_list = [1, 2, 4, 8, 16]\n",
    "print(my_list)"
   ]
  },
  {
   "cell_type": "markdown",
   "metadata": {},
   "source": [
    "List items can be accessed by their index. Python uses zero-indexing which means the first item starts at 0.\n",
    "\n",
    "Print the value of the first item:"
   ]
  },
  {
   "cell_type": "code",
   "execution_count": 42,
   "metadata": {},
   "outputs": [
    {
     "name": "stdout",
     "output_type": "stream",
     "text": [
      "1\n",
      "16\n",
      "16\n",
      "4\n"
     ]
    }
   ],
   "source": [
    "print(my_list[0])\n",
    "print(my_list[4])\n",
    "print(my_list[-1])\n",
    "print(my_list[2])"
   ]
  },
  {
   "cell_type": "markdown",
   "metadata": {},
   "source": [
    "To add items to the list you can use the append function"
   ]
  },
  {
   "cell_type": "code",
   "execution_count": 43,
   "metadata": {
    "scrolled": true
   },
   "outputs": [
    {
     "name": "stdout",
     "output_type": "stream",
     "text": [
      "[1, 2, 4, 8, 16, 32]\n"
     ]
    }
   ],
   "source": [
    "my_list.append(32)\n",
    "\n",
    "print(my_list)"
   ]
  },
  {
   "cell_type": "markdown",
   "metadata": {},
   "source": [
    "To find out how many items are in the list use the len function"
   ]
  },
  {
   "cell_type": "code",
   "execution_count": 44,
   "metadata": {},
   "outputs": [
    {
     "name": "stdout",
     "output_type": "stream",
     "text": [
      "6\n"
     ]
    }
   ],
   "source": [
    "print(len(my_list))"
   ]
  },
  {
   "cell_type": "markdown",
   "metadata": {},
   "source": [
    "To create an empty list, you can use the list constructor function then append items later"
   ]
  },
  {
   "cell_type": "code",
   "execution_count": 1,
   "metadata": {},
   "outputs": [
    {
     "name": "stdout",
     "output_type": "stream",
     "text": [
      "[10, 12]\n"
     ]
    }
   ],
   "source": [
    "my_new_list = list()\n",
    "\n",
    "my_new_list.append(10)\n",
    "my_new_list.append(12)\n",
    "\n",
    "print(my_new_list)"
   ]
  },
  {
   "cell_type": "markdown",
   "metadata": {},
   "source": [
    "## User Input\n",
    "\n",
    "The code we have used so far always does the same thing. Useful real code acts on input data. One way to get this data is directly from the user.\n",
    "\n",
    "Let’s capture the user’s name and display a welcome message:"
   ]
  },
  {
   "cell_type": "code",
   "execution_count": null,
   "metadata": {},
   "outputs": [],
   "source": [
    "# Python 3\n",
    "name = input(\"Enter your name: \")\n",
    "passswrod = input()\n",
    "\n",
    "print()\n",
    "print(\"Welcome \" + name)\n",
    "print(\"Your password is: \" + passswrod)"
   ]
  },
  {
   "cell_type": "code",
   "execution_count": 7,
   "metadata": {},
   "outputs": [
    {
     "name": "stdout",
     "output_type": "stream",
     "text": [
      "enter a name: 123\n",
      "<class 'int'>\n"
     ]
    }
   ],
   "source": [
    "name2 = input(\"enter a name: \")\n",
    "name23 = int(name2)\n",
    "\n",
    "print(type(name23))\n"
   ]
  },
  {
   "cell_type": "markdown",
   "metadata": {},
   "source": [
    "<div style=\"margin-bottom: 30px;\"><img width=48 style=\"display: block; float: left;  margin-right: 20px;\" src=\"img/question-mark-button.png\"> <h3 style=\"padding-top: 15px;\">Exercise 1 - User Input</h3></div>\n",
    "\n",
    "In the above user input example we created the variable ``name``. What is the type of ``name``?\n",
    "\n",
    "1. int\n",
    "2. str\n",
    "3. float\n",
    "4. list\n",
    "\n",
    "## Comments\n",
    "\n",
    "As your program gets more complicated you may want to add some notes to your code to help you remember what your code does or to explain to others who are using your code later.\n",
    "\n",
    "In Python everything to the right hand side of a ``#`` symbol is considered a comment and is ignored by Python.\n",
    "\n",
    "**TIP**: Comments can also be used to quickly disable specific lines of code.\n",
    "\n",
    "Multi line comments can be created by wrapping your comment in a pair of triple quotation marks like so"
   ]
  },
  {
   "cell_type": "code",
   "execution_count": 9,
   "metadata": {},
   "outputs": [
    {
     "data": {
      "text/plain": [
       "'\\nThis is a mutiply comment\\ncomment\\n\\n'"
      ]
     },
     "execution_count": 9,
     "metadata": {},
     "output_type": "execute_result"
    }
   ],
   "source": [
    "# This is a single line comment\n",
    "x =123     # x 代表横坐标\n",
    "y =324234  # y 代表纵坐标\n",
    "\n",
    "\n",
    "# Python will ignore the following code\n",
    "# a = 10\n",
    "\n",
    "\n",
    "\"\"\"\n",
    "This is a mutiply comment\n",
    "comment\n",
    "\n",
    "\"\"\"\n",
    "\n",
    " "
   ]
  },
  {
   "cell_type": "markdown",
   "metadata": {},
   "source": [
    "## Conditionals\n",
    "\n",
    "So far when we press Run the code has been executed line by line. But what about if we want to execute a different piece of code based on the current state or value of a variable?\n",
    "\n",
    "This is where the conditional statements if, elif and else come into play. These statements allow us to branch the execution path."
   ]
  },
  {
   "cell_type": "code",
   "execution_count": 15,
   "metadata": {},
   "outputs": [
    {
     "name": "stdout",
     "output_type": "stream",
     "text": [
      "Enter a number: 3\n",
      "number is equal to 3\n"
     ]
    }
   ],
   "source": [
    "# Accept input as str \n",
    "number_str = input(\"Enter a number: \")\n",
    "# Convert str to integer\n",
    "number_int = int(number_str)\n",
    "\n",
    "  \n",
    "# if number_int > 3:\n",
    "#     print(\"number is greater than 3\")\n",
    "# else:\n",
    "#     print(\"number is less or equal to 3\")\n",
    "\n",
    "if number_int > 3:\n",
    "    print(\"number is greater than 3\")\n",
    "elif number_int == 3:\n",
    "    print(\"number is equal to 3\")\n",
    "else:\n",
    "    print(\"number is less than 3\")"
   ]
  },
  {
   "cell_type": "code",
   "execution_count": 21,
   "metadata": {},
   "outputs": [
    {
     "name": "stdout",
     "output_type": "stream",
     "text": [
      "Enter a number: 4\n",
      "number is greater than 3\n",
      "number is less than 3\n"
     ]
    }
   ],
   "source": [
    "# Accept input as str \n",
    "number_input = input(\"Enter a number: \")\n",
    "# Convert str to integer\n",
    "number_int_tran = int(number_input)\n",
    "\n",
    "if number_int_tran > 3:\n",
    "    print(\"number is greater than 3\")\n",
    "elif number_int_tran == 3:\n",
    "    print(\"number is equal to 3\")\n",
    "if number_int_tran > 5:\n",
    "    print(\"number is greater than 5\")\n",
    "else:\n",
    "    print(\"number is less than 5\")"
   ]
  },
  {
   "cell_type": "code",
   "execution_count": 23,
   "metadata": {},
   "outputs": [
    {
     "name": "stdout",
     "output_type": "stream",
     "text": [
      "Enter a number: 2\n"
     ]
    }
   ],
   "source": [
    "# Accept input as str \n",
    "number_input = input(\"Enter a number: \")\n",
    "# Convert str to integer\n",
    "number_int_tran = int(number_input)\n",
    "\n",
    "if number_int_tran > 3:\n",
    "    if number_int_tran > 5:\n",
    "        print(\"number is larger than 5\")\n",
    "    else:\n",
    "        print(\"number is greater than 3 and less than 5\")\n",
    "        "
   ]
  },
  {
   "cell_type": "markdown",
   "metadata": {},
   "source": [
    "<div style=\"margin-bottom: 30px;\"><img width=48 style=\"display: block; float: left;  margin-right: 20px;\" src=\"img/question-mark-button.png\"> <h3 style=\"padding-top: 15px;\">Exercise 2 - Nesting</h3></div>\n",
    "\n",
    "In the above conditional example we used the following two lines of code to collect the number\n",
    "\n",
    "    number_str = input(\"Enter a number: \")\n",
    "    number_int = int(number_str)\n",
    "    \n",
    "Can you think of a way to do this in one line of code?"
   ]
  },
  {
   "cell_type": "code",
   "execution_count": 25,
   "metadata": {},
   "outputs": [
    {
     "name": "stdout",
     "output_type": "stream",
     "text": [
      "Enter a number: 213\n",
      "213\n"
     ]
    }
   ],
   "source": [
    "number_int = int(input(\"Enter a number: \"))\n",
    "\n",
    "print(number_int)"
   ]
  },
  {
   "cell_type": "markdown",
   "metadata": {},
   "source": [
    "## Loops\n",
    "\n",
    "A fundamental component of computer programming is iteration. In other words the ability to do repeated tasks.\n",
    "\n",
    "In Python we do this using loops. There are two types of loops:\n",
    "•\tFor loop\n",
    "•\tWhile loop\n",
    "\n",
    "Let’s start with an example of the For loop by iterating over our list of numbers that we created earlier and printing their values"
   ]
  },
  {
   "cell_type": "code",
   "execution_count": 28,
   "metadata": {},
   "outputs": [
    {
     "name": "stdout",
     "output_type": "stream",
     "text": [
      "1\n",
      "2\n",
      "4\n",
      "8\n",
      "16\n"
     ]
    }
   ],
   "source": [
    "for number in my_list:\n",
    "    print(number)"
   ]
  },
  {
   "cell_type": "code",
   "execution_count": 38,
   "metadata": {},
   "outputs": [],
   "source": [
    "my_list = [1,1,1,1,1,1,1,1,4]"
   ]
  },
  {
   "cell_type": "code",
   "execution_count": 39,
   "metadata": {
    "scrolled": true
   },
   "outputs": [
    {
     "name": "stdout",
     "output_type": "stream",
     "text": [
      "4\n"
     ]
    }
   ],
   "source": [
    "count = 0\n",
    "for item in my_list:\n",
    "    if item > 3:\n",
    "        print(item)\n",
    "    else:\n",
    "        count = count + 1\n",
    "        \n",
    "if count == len(my_list):\n",
    "    print(\"All items less than 3\")\n",
    "        \n",
    "# print(\"count is \", count)\n"
   ]
  },
  {
   "cell_type": "markdown",
   "metadata": {},
   "source": [
    "You can also use list indexing to do the same thing. Try this"
   ]
  },
  {
   "cell_type": "code",
   "execution_count": 45,
   "metadata": {},
   "outputs": [
    {
     "name": "stdout",
     "output_type": "stream",
     "text": [
      "[0, 1, 2, 3, 4, 5, 6, 7, 8]\n",
      "9\n"
     ]
    }
   ],
   "source": [
    "print(list(range(9)))\n",
    "print(len(my_list))\n"
   ]
  },
  {
   "cell_type": "code",
   "execution_count": 47,
   "metadata": {},
   "outputs": [
    {
     "name": "stdout",
     "output_type": "stream",
     "text": [
      "<class 'tuple'>\n"
     ]
    }
   ],
   "source": [
    "demo_list = (1, 3, 4)\n",
    "print(type(demo_list))"
   ]
  },
  {
   "cell_type": "code",
   "execution_count": 14,
   "metadata": {},
   "outputs": [
    {
     "name": "stdout",
     "output_type": "stream",
     "text": [
      "1\n",
      "2\n",
      "4\n",
      "8\n",
      "16\n"
     ]
    }
   ],
   "source": [
    "for i in range(len(my_list)):\n",
    "    print(my_list[i])"
   ]
  },
  {
   "cell_type": "markdown",
   "metadata": {},
   "source": [
    "While loops are a little more complicated. They continue iterating until a conditional statement becomes false. Try the following"
   ]
  },
  {
   "cell_type": "code",
   "execution_count": 19,
   "metadata": {},
   "outputs": [
    {
     "name": "stdout",
     "output_type": "stream",
     "text": [
      "1\n",
      "2\n",
      "4\n",
      "8\n",
      "16\n"
     ]
    }
   ],
   "source": [
    "count = 0\n",
    "while (count < len(my_list)):\n",
    "    print(my_list[count])\n",
    "    count = count + 1"
   ]
  },
  {
   "cell_type": "code",
   "execution_count": 49,
   "metadata": {},
   "outputs": [],
   "source": [
    "my_list = [1, 2, 4, 8, 12, 16, 20, 28]"
   ]
  },
  {
   "cell_type": "code",
   "execution_count": 57,
   "metadata": {},
   "outputs": [
    {
     "name": "stdout",
     "output_type": "stream",
     "text": [
      "12\n",
      "16\n"
     ]
    }
   ],
   "source": [
    "for item in my_list:\n",
    "    if item > 10 and item < 20:\n",
    "        print(item)\n",
    "\n",
    "        "
   ]
  },
  {
   "cell_type": "markdown",
   "metadata": {},
   "source": [
    "Tip: Be careful with loops (particularly while loops) as you may accidentally create an infinite loop which Python can’t escape from. You will need to quit Jupyter to stop an infinite loop.\n",
    "\n",
    "<div style=\"margin-bottom: 30px;\"><img width=48 style=\"display: block; float: left;  margin-right: 20px;\" src=\"img/question-mark-button.png\"> <h3 style=\"padding-top: 15px;\">Exercise 3 - Loops</h3></div>\n",
    "\n",
    "Can you write a loop to print the numbers from 10 to 20?\n",
    "\n",
    "## Functions\n",
    "\n",
    "Functions in Python (and other programming languages) are based on functions from mathematics. They encapsulate a piece of repeated functionality and they allow optional input and produce optional output.\n",
    "\n",
    "Functions are a great way to divide your code into reusable building blocks, which makes your code more readable and may save you time and effort.\n",
    "\n",
    "Try this example"
   ]
  },
  {
   "cell_type": "code",
   "execution_count": 68,
   "metadata": {},
   "outputs": [
    {
     "name": "stdout",
     "output_type": "stream",
     "text": [
      "15\n"
     ]
    }
   ],
   "source": [
    "def add(a, b):\n",
    "    x = a + b\n",
    "    return x\n",
    "\n",
    "\n",
    "\n",
    "c = add(10, 5)\n",
    "print(c)"
   ]
  },
  {
   "cell_type": "markdown",
   "metadata": {},
   "source": [
    "The function called “add” has a two parameters which we called “a” and “b”. Inside the function Python will replace each occurrence of the parameters with the values that we specified.\n",
    "\n",
    "**TIP**: def keyword means “define”\n",
    "\n",
    "## String Formatting\n",
    "\n",
    "A common task you may encounter is outputting strings that are nicely formatted. You can use f-string's to help you.\n",
    "\n",
    "f-string's use the curly braces ``{}`` to indicate a replacement. If you put the name of a variable inside the braces it will be replaced with the value of the variable."
   ]
  },
  {
   "cell_type": "code",
   "execution_count": 70,
   "metadata": {},
   "outputs": [
    {
     "name": "stdout",
     "output_type": "stream",
     "text": [
      "What is your name?: c\n",
      "What year were you born?: 7\n",
      "Hi c you are  2012  years old\n"
     ]
    }
   ],
   "source": [
    "name = input(\"What is your name?: \")\n",
    "year = int(input(\"What year were you born?: \"))\n",
    "\n",
    "age = 2019 - year\n",
    "\n",
    "\n",
    "print(\"Hi \" + name + \" you are \", age , \" years old\")"
   ]
  },
  {
   "cell_type": "code",
   "execution_count": 71,
   "metadata": {},
   "outputs": [
    {
     "name": "stdout",
     "output_type": "stream",
     "text": [
      "What is your name?: c\n",
      "What year were you born?: 7\n",
      "Hi c, you are 2012 years old\n"
     ]
    }
   ],
   "source": [
    "name = input(\"What is your name?: \")\n",
    "year = int(input(\"What year were you born?: \"))\n",
    "\n",
    "age = 2019 - year\n",
    "\n",
    "# fancy_string = f\"Hi {name}, you are {age} years old\"\n",
    "\n",
    "print(f\"Hi {name}, you are {age} years old\")"
   ]
  },
  {
   "cell_type": "markdown",
   "metadata": {},
   "source": [
    "## Classes and Objects\n",
    "\n",
    "An object is a container that represents a “thing”. Inside the container there are:\n",
    "- Functions\n",
    "- Attributes\n",
    "\n",
    "Imagine we want to represent a person in our program. We might define a “person” class. People have attributes like age, height, weight, name etc. They also “do” things, in other words they have functionality. Some function examples might be: eat, sleep, walk and study.\n",
    "\n",
    "Lets look at a more practical example: a customer’s bank account. We need to keep track of the balance and which customer it belongs to. We also need to be able to withdraw and deposit money.\n"
   ]
  },
  {
   "cell_type": "code",
   "execution_count": 73,
   "metadata": {},
   "outputs": [],
   "source": [
    "class Account(object):\n",
    "    #A bank customer\n",
    "    \n",
    "    def __init__(self, owner, balance):#构造函数\n",
    "        self.owner = owner\n",
    "        self.balance = balance\n",
    "    \n",
    "\n",
    "    def widthdraw(self, amount):\n",
    "        self.balance = self.balance - amount\n",
    "        return self.balance\n",
    "    \n",
    "    def deposit(self, amount):\n",
    "        self.balance = self.balance + amount\n",
    "        return self.balance"
   ]
  },
  {
   "cell_type": "code",
   "execution_count": null,
   "metadata": {},
   "outputs": [],
   "source": [
    "clss Account(object)"
   ]
  },
  {
   "cell_type": "markdown",
   "metadata": {},
   "source": [
    "**TIP**: The functions that start and end with double underscores (\\__) are special functions in Python. The \\__init\\__ function (initialize) is called the class constructor. It gets called when you create the object. The \\__str\\__ function (string) is called when printing the object.\n",
    "\n",
    "Create an instance of the customer class by calling the constructor and specifying a name (use your own name) and starting balance"
   ]
  },
  {
   "cell_type": "code",
   "execution_count": null,
   "metadata": {},
   "outputs": [],
   "source": [
    "my_list = [1,2,3,4,5,6]\n",
    "my_list2 = list()\n",
    "sd = 2 "
   ]
  },
  {
   "cell_type": "code",
   "execution_count": 83,
   "metadata": {},
   "outputs": [],
   "source": [
    "new_account = Account(\"Steve\", 1000.00)\n",
    "lucy_account = Account(\"Lucy\", 100.00)"
   ]
  },
  {
   "cell_type": "markdown",
   "metadata": {},
   "source": [
    "You can then access the attributes of the object by using the dot notation. "
   ]
  },
  {
   "cell_type": "code",
   "execution_count": 81,
   "metadata": {},
   "outputs": [
    {
     "name": "stdout",
     "output_type": "stream",
     "text": [
      "1000.0\n",
      "Steve\n"
     ]
    }
   ],
   "source": [
    "print(new_account.balance)\n",
    "print(new_account.owner)\n"
   ]
  },
  {
   "cell_type": "code",
   "execution_count": 84,
   "metadata": {},
   "outputs": [
    {
     "name": "stdout",
     "output_type": "stream",
     "text": [
      "Lucy\n"
     ]
    }
   ],
   "source": [
    "print(lucy_account.owner)"
   ]
  },
  {
   "cell_type": "markdown",
   "metadata": {},
   "source": [
    "We have also explicitly define the string function so you can try"
   ]
  },
  {
   "cell_type": "code",
   "execution_count": 82,
   "metadata": {},
   "outputs": [
    {
     "name": "stdout",
     "output_type": "stream",
     "text": [
      "Account for Steve, balance of 1000.0\n"
     ]
    }
   ],
   "source": [
    "print(new_account)"
   ]
  },
  {
   "cell_type": "markdown",
   "metadata": {},
   "source": [
    "Accessing the functions of an object is much the same"
   ]
  },
  {
   "cell_type": "code",
   "execution_count": 14,
   "metadata": {},
   "outputs": [
    {
     "name": "stdout",
     "output_type": "stream",
     "text": [
      "900.0\n"
     ]
    }
   ],
   "source": [
    "new_account.widthdraw(100)\n",
    "\n",
    "print(new_account.balance)"
   ]
  },
  {
   "cell_type": "markdown",
   "metadata": {},
   "source": [
    "More info at https://docs.python.org/3/tutorial/classes.html"
   ]
  }
 ],
 "metadata": {
  "kernelspec": {
   "display_name": "Python 3",
   "language": "python",
   "name": "python3"
  },
  "language_info": {
   "codemirror_mode": {
    "name": "ipython",
    "version": 3
   },
   "file_extension": ".py",
   "mimetype": "text/x-python",
   "name": "python",
   "nbconvert_exporter": "python",
   "pygments_lexer": "ipython3",
   "version": "3.6.8"
  }
 },
 "nbformat": 4,
 "nbformat_minor": 2
}
