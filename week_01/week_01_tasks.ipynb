{
 "cells": [
  {
   "cell_type": "markdown",
   "metadata": {},
   "source": [
    "<center><h1>BUSS6002 - Data Science in Business</h1></center>\n",
    "\n",
    "# Tutorial 1 Tasks\n",
    "\n",
    "## Task 1 - Debugging Code\n",
    "\n",
    "Debugging is the process of fixing or removing bugs in code. It is an important skill to have as you **will** write bugs in your own code.\n",
    "\n",
    "Tony has written some code and asked you to help fix it. He wants to square a list of numbers. The numbers to square are:\n",
    "    \n",
    "    1, 2, 3, 4, 5\n",
    "\n",
    "The output should be:\n",
    "\n",
    "    [1, 4, 9, 16, 25]\n",
    "    \n",
    "**HINT**: First try running the code and Python will tell you where the obvious problems are!"
   ]
  },
  {
   "cell_type": "code",
   "execution_count": 6,
   "metadata": {},
   "outputs": [
    {
     "name": "stdout",
     "output_type": "stream",
     "text": [
      "[1, 4, 9, 16, 25]\n"
     ]
    }
   ],
   "source": [
    "# Raise a to the power of 2\n",
    "def power_2(a):\n",
    "    return a * a\n",
    "\n",
    "list_of_numbers = [1, 2, 3, 4, 5]\n",
    "\n",
    "list_of_results = []\n",
    "\n",
    "for i in list_of_numbers:\n",
    "    value = power_2(i)\n",
    "    list_of_results.append(value)\n",
    "\n",
    "print(list_of_results)"
   ]
  },
  {
   "cell_type": "markdown",
   "metadata": {},
   "source": [
    "## Task 2 - Memory\n",
    "\n",
    "Write Python code to create the following state in memory\n",
    "\n",
    "<img width=400 src=\"img/task2_ram.png\">\n",
    "\n",
    "You can check the state of memory by using the ``%whos`` command and you can clear all variables by using ``%reset``."
   ]
  },
  {
   "cell_type": "code",
   "execution_count": 8,
   "metadata": {},
   "outputs": [
    {
     "data": {
      "text/plain": [
       "[0.1, 0.2, 0.3, 0.4, 0.5, 0.6, 0.7, 0.8, 0.9, 1.0]"
      ]
     },
     "execution_count": 8,
     "metadata": {},
     "output_type": "execute_result"
    }
   ],
   "source": [
    "[round(x * 0.1, 1) for x in range(1, 11)]"
   ]
  },
  {
   "cell_type": "code",
   "execution_count": 16,
   "metadata": {},
   "outputs": [
    {
     "name": "stdout",
     "output_type": "stream",
     "text": [
      "0.30000000000000004\n"
     ]
    }
   ],
   "source": [
    "demo = 0.1 + 0.2 \n",
    "# float, 计算机中，所有的数字在是实际运算的时候，都会转化为二进制进行计算，2次数\n",
    "# 0.3转为二进制后，他是一个无限循环的小数\n",
    "print(demo)"
   ]
  },
  {
   "cell_type": "code",
   "execution_count": 18,
   "metadata": {},
   "outputs": [
    {
     "data": {
      "text/plain": [
       "0.34"
      ]
     },
     "execution_count": 18,
     "metadata": {},
     "output_type": "execute_result"
    }
   ],
   "source": [
    "round(0.33533,2)"
   ]
  },
  {
   "cell_type": "code",
   "execution_count": 10,
   "metadata": {},
   "outputs": [
    {
     "name": "stdout",
     "output_type": "stream",
     "text": [
      "[0.1, 0.2, 0.30000000000000004, 0.4, 0.5, 0.6, 0.7, 0.7999999999999999, 0.8999999999999999, 0.9999999999999999]\n"
     ]
    }
   ],
   "source": [
    "first = 0.1 \n",
    "test = []\n",
    "\n",
    "for i in range(10):\n",
    "    test.append(first)\n",
    "    first = first + 0.1\n",
    "print(test)"
   ]
  },
  {
   "cell_type": "code",
   "execution_count": 20,
   "metadata": {},
   "outputs": [
    {
     "name": "stdout",
     "output_type": "stream",
     "text": [
      "[0.1, 0.2, 0.3, 0.4, 0.5, 0.6, 0.7, 0.8, 0.9, 1.0]\n"
     ]
    }
   ],
   "source": [
    "x = 10\n",
    "y = 3\n",
    "z = 10/3\n",
    "values = []\n",
    "temp = 0.1\n",
    "for i in range(0,10):\n",
    "    values.append(round(temp,1))\n",
    "    temp = temp + 0.1\n",
    "    i = i+1\n",
    "print(values)"
   ]
  },
  {
   "cell_type": "code",
   "execution_count": null,
   "metadata": {
    "scrolled": true
   },
   "outputs": [],
   "source": [
    "%whos"
   ]
  },
  {
   "cell_type": "markdown",
   "metadata": {},
   "source": [
    "## Task 3 - Dice Rolling\n",
    "\n",
    "Write a Python script to generate 6 sided dice rolls.\n",
    "\n",
    "The script should prompt the user \"Roll the dice again? (y/n)\".\n",
    "\n",
    "If the user types \"y\" then the dice is rolled and the prompt is presented again.\n",
    "\n",
    "If the user types \"n\" then the script should end.\n",
    "\n",
    "**HINTS**\n",
    "\n",
    "To generate a random number in a range use the following code:"
   ]
  },
  {
   "cell_type": "code",
   "execution_count": null,
   "metadata": {},
   "outputs": [],
   "source": [
    "import random\n",
    "answer = input(\"Roll the dice again?(y/n)\")\n",
    "\n",
    "while(answer == 'y'):\n",
    "    rand_number = random.randint(1, 6)\n",
    "    print(rand_number)\n",
    "    answer = input(\"Roll the dice again?(y/n)\")"
   ]
  },
  {
   "cell_type": "code",
   "execution_count": 3,
   "metadata": {},
   "outputs": [
    {
     "name": "stdout",
     "output_type": "stream",
     "text": [
      "Roll the dice again?(y/n)y\n",
      "This dice is 2\n",
      "\n",
      "Roll the dice again?(y/n)y\n",
      "This dice is 2\n",
      "\n",
      "Roll the dice again?(y/n)y\n",
      "This dice is 6\n",
      "\n",
      "Roll the dice again?(y/n)3\n",
      "This dice is 1\n",
      "\n",
      "Roll the dice again?(y/n)3\n",
      "This dice is 4\n",
      "\n",
      "Roll the dice again?(y/n)3\n",
      "This dice is 3\n",
      "\n",
      "Roll the dice again?(y/n)2\n",
      "This dice is 5\n",
      "\n",
      "Roll the dice again?(y/n)n\n"
     ]
    }
   ],
   "source": [
    "import random\n",
    "\n",
    "flag = True\n",
    "\n",
    "while(flag):\n",
    "    decision = input(\"Roll the dice again?(y/n)\")\n",
    "    rand_number = random.randint(1, 6)\n",
    "    if decision == 'n':\n",
    "        flag = False\n",
    "    else:\n",
    "        print(f\"This dice is {rand_number}\")\n",
    "        print()"
   ]
  },
  {
   "cell_type": "code",
   "execution_count": 16,
   "metadata": {},
   "outputs": [
    {
     "name": "stdout",
     "output_type": "stream",
     "text": [
      "[0.1 0.2 0.3 0.4 0.5 0.6 0.7 0.8 0.9 1. ]\n",
      "0.30000000000000004\n"
     ]
    }
   ],
   "source": [
    "import numpy as np\n",
    "\n",
    "list_new = np.arange(0.1,1.1,0.1)\n",
    "print(list_new)\n"
   ]
  }
 ],
 "metadata": {
  "kernelspec": {
   "display_name": "Python 3",
   "language": "python",
   "name": "python3"
  },
  "language_info": {
   "codemirror_mode": {
    "name": "ipython",
    "version": 3
   },
   "file_extension": ".py",
   "mimetype": "text/x-python",
   "name": "python",
   "nbconvert_exporter": "python",
   "pygments_lexer": "ipython3",
   "version": "3.6.8"
  }
 },
 "nbformat": 4,
 "nbformat_minor": 2
}
