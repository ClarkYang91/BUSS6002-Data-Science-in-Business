{
 "cells": [
  {
   "cell_type": "markdown",
   "metadata": {},
   "source": [
    "# Numpy\n",
    "\n",
    "                                ————Prepared by Ella Luo\n",
    "                               \n"
   ]
  },
  {
   "cell_type": "code",
   "execution_count": 4,
   "metadata": {},
   "outputs": [
    {
     "name": "stdout",
     "output_type": "stream",
     "text": [
      "(3,)\n",
      "(1, 3)\n",
      "<class 'numpy.matrix'>\n"
     ]
    }
   ],
   "source": [
    "import numpy as np  \n",
    "\n",
    "a = np.array([1, 2, 3])  #a是向量： ndarray: 3个元素的向量\n",
    "\n",
    "A = np.matrix([1, 2, 3]) #A 是1*3矩阵\n",
    "\n",
    "print(a.shape)\n",
    "\n",
    "print(A.shape)\n",
    "\n",
    "print(type(A))"
   ]
  },
  {
   "cell_type": "code",
   "execution_count": 3,
   "metadata": {},
   "outputs": [
    {
     "data": {
      "text/plain": [
       "numpy.ndarray"
      ]
     },
     "execution_count": 3,
     "metadata": {},
     "output_type": "execute_result"
    }
   ],
   "source": [
    "a = np.array([1, 2, 3])  \n",
    "type(a)"
   ]
  },
  {
   "cell_type": "markdown",
   "metadata": {},
   "source": [
    "实际上我们通常使用的是numpy array的表达方法来表达一个矩阵"
   ]
  },
  {
   "cell_type": "code",
   "execution_count": 5,
   "metadata": {},
   "outputs": [
    {
     "name": "stdout",
     "output_type": "stream",
     "text": [
      "[[1 2 3]\n",
      " [2 3 4]]\n",
      "(2, 3)\n"
     ]
    }
   ],
   "source": [
    "b = np.array([[1, 2, 3],[2, 3, 4]])   \n",
    "\n",
    "print(b)\n",
    "\n",
    "print(b.shape)"
   ]
  },
  {
   "cell_type": "markdown",
   "metadata": {},
   "source": [
    "## numpy array的运算\n",
    "注意区分\\*和dot"
   ]
  },
  {
   "cell_type": "code",
   "execution_count": 5,
   "metadata": {},
   "outputs": [
    {
     "name": "stdout",
     "output_type": "stream",
     "text": [
      "[ 4 10 18]\n",
      "[ 4 10 18]\n"
     ]
    }
   ],
   "source": [
    "c = np.array([1, 2, 3]) \n",
    "d = np.array([4, 5, 6]) \n",
    "\n",
    "print(c*d) #对应位置相乘\n",
    "print(np.multiply(c,d))"
   ]
  },
  {
   "cell_type": "code",
   "execution_count": 14,
   "metadata": {},
   "outputs": [
    {
     "name": "stdout",
     "output_type": "stream",
     "text": [
      "32\n",
      "32\n"
     ]
    }
   ],
   "source": [
    "a = np.array([1, 2, 3]) \n",
    "b = np.array([4, 5, 6]) \n",
    "\n",
    "print(np.dot(a,b))  #np.dot: 点积\n",
    "print(a.dot(b))  "
   ]
  },
  {
   "cell_type": "code",
   "execution_count": 6,
   "metadata": {},
   "outputs": [
    {
     "name": "stdout",
     "output_type": "stream",
     "text": [
      "[[12 20]\n",
      " [17 29]]\n",
      "[[ 5  8 11]\n",
      " [ 7 11 15]\n",
      " [11 18 25]]\n"
     ]
    }
   ],
   "source": [
    "x = np.array([[1, 2, 3],[2, 3, 4]])\n",
    "y = np.array([[1, 2],[1, 3],[3, 4]]) \n",
    "\n",
    "print(x.dot(y))  \n",
    "print(y.dot(x))\n"
   ]
  },
  {
   "cell_type": "code",
   "execution_count": 7,
   "metadata": {},
   "outputs": [
    {
     "data": {
      "text/plain": [
       "array([[12, 20],\n",
       "       [17, 29]])"
      ]
     },
     "execution_count": 7,
     "metadata": {},
     "output_type": "execute_result"
    }
   ],
   "source": [
    "np.dot(x,y)"
   ]
  },
  {
   "cell_type": "code",
   "execution_count": 8,
   "metadata": {},
   "outputs": [
    {
     "data": {
      "text/plain": [
       "array([[ 5,  8, 11],\n",
       "       [ 7, 11, 15],\n",
       "       [11, 18, 25]])"
      ]
     },
     "execution_count": 8,
     "metadata": {},
     "output_type": "execute_result"
    }
   ],
   "source": [
    "np.dot(y,x)"
   ]
  },
  {
   "cell_type": "code",
   "execution_count": 5,
   "metadata": {},
   "outputs": [
    {
     "name": "stdout",
     "output_type": "stream",
     "text": [
      "[[12 20]\n",
      " [17 29]]\n"
     ]
    }
   ],
   "source": [
    "A = np.matrix([[1, 2, 3],[2, 3, 4]])\n",
    "B = np.matrix([[1, 2],[1, 3],[3, 4]])\n",
    "print(A*B)"
   ]
  },
  {
   "cell_type": "markdown",
   "metadata": {},
   "source": [
    "### 矩阵的转置\n",
    "无论是numpy array的形式，还是numpy matrix的形式，都可以用 .T 或者 .transpose()来做转置运算"
   ]
  },
  {
   "cell_type": "code",
   "execution_count": 6,
   "metadata": {},
   "outputs": [
    {
     "name": "stdout",
     "output_type": "stream",
     "text": [
      "[[1]\n",
      " [2]\n",
      " [3]]\n",
      "[[1]\n",
      " [2]\n",
      " [3]]\n",
      "[[1 2]\n",
      " [2 3]\n",
      " [3 4]]\n",
      "[[1 2]\n",
      " [2 3]\n",
      " [3 4]]\n"
     ]
    }
   ],
   "source": [
    "A = np.matrix([1, 2, 3])\n",
    "z = np.array([[1, 2, 3],[2, 3, 4]])\n",
    "\n",
    "print(A.T)\n",
    "print(A.transpose())\n",
    "\n",
    "print(z.T)\n",
    "print(z.transpose())"
   ]
  },
  {
   "cell_type": "code",
   "execution_count": 11,
   "metadata": {},
   "outputs": [
    {
     "data": {
      "text/plain": [
       "matrix([[1],\n",
       "        [2],\n",
       "        [3]])"
      ]
     },
     "execution_count": 11,
     "metadata": {},
     "output_type": "execute_result"
    }
   ],
   "source": [
    "A = np.matrix([1, 2, 3])\n",
    "A.T   #A是1*3矩阵  A.T 是3*1矩阵\n",
    "A.transpose()"
   ]
  },
  {
   "cell_type": "code",
   "execution_count": 14,
   "metadata": {},
   "outputs": [
    {
     "name": "stdout",
     "output_type": "stream",
     "text": [
      "(2, 3)\n",
      "[[1 2]\n",
      " [2 3]\n",
      " [3 4]]\n",
      "[[1 2]\n",
      " [2 3]\n",
      " [3 4]]\n"
     ]
    }
   ],
   "source": [
    "z = np.array([[1, 2, 3],[2, 3, 4]])  #z是2*3矩阵， z.T 是3*2矩阵\n",
    "print(z.shape)\n",
    "print(z.T)\n",
    "print(z.transpose())"
   ]
  },
  {
   "cell_type": "markdown",
   "metadata": {},
   "source": [
    "### 数字与numpy array的运算\n",
    "无论是乘除还是加减，均是对该numpy array的每一项进行运算"
   ]
  },
  {
   "cell_type": "code",
   "execution_count": 15,
   "metadata": {},
   "outputs": [
    {
     "name": "stdout",
     "output_type": "stream",
     "text": [
      "[[ 3  6  9]\n",
      " [ 6  9 12]]\n",
      "[[0 1 2]\n",
      " [1 2 3]]\n"
     ]
    }
   ],
   "source": [
    "a = np.array([[1, 2, 3],[2, 3, 4]]) #2*3矩阵\n",
    "\n",
    "print(3*a) #对矩阵里面每个数字都乘以3\n",
    "print(a-1) #对矩阵里面每个数字都减去1"
   ]
  },
  {
   "cell_type": "markdown",
   "metadata": {},
   "source": [
    "### numpy array的拼接和numpy matrix的拼接"
   ]
  },
  {
   "cell_type": "code",
   "execution_count": 9,
   "metadata": {},
   "outputs": [
    {
     "name": "stdout",
     "output_type": "stream",
     "text": [
      "[[ 1  2  3]\n",
      " [ 2  3  4]\n",
      " [ 6  7  8]\n",
      " [ 9 10 11]]\n",
      "[[ 1  2  3  6  7  8]\n",
      " [ 2  3  4  9 10 11]]\n"
     ]
    }
   ],
   "source": [
    "a = np.array([[1, 2, 3],[2, 3, 4]])\n",
    "b = np.array([[6, 7, 8],[9, 10, 11]])\n",
    "\n",
    "print(np.vstack((a,b))) #纵向拼接\n",
    "print(np.hstack((a,b))) #horizontal stack  横向拼接\n"
   ]
  },
  {
   "cell_type": "markdown",
   "metadata": {},
   "source": [
    "### 两种获取shortcuts的方法\n",
    "1.linspace"
   ]
  },
  {
   "cell_type": "code",
   "execution_count": 24,
   "metadata": {},
   "outputs": [
    {
     "name": "stdout",
     "output_type": "stream",
     "text": [
      "[  0.   5.  10.  15.  20.  25.  30.  35.  40.  45.  50.  55.  60.  65.\n",
      "  70.  75.  80.  85.  90.  95. 100.]\n"
     ]
    }
   ],
   "source": [
    "lin_spaced = np.linspace(0, 100, 21)   \n",
    "#0是起点，100是终点， 21需要的数字的个数， 0和100 都会取到\n",
    "#等间隔选取\n",
    "print(lin_spaced)"
   ]
  },
  {
   "cell_type": "markdown",
   "metadata": {},
   "source": [
    "2.arange"
   ]
  },
  {
   "cell_type": "code",
   "execution_count": 25,
   "metadata": {},
   "outputs": [
    {
     "name": "stdout",
     "output_type": "stream",
     "text": [
      "[ 0  5 10 15 20 25 30 35 40 45 50 55 60 65 70 75 80 85 90 95]\n",
      "[0 1 2 3 4 5 6 7 8 9]\n"
     ]
    }
   ],
   "source": [
    "aranged = np.arange(0, 100, 5)  \n",
    "\n",
    "#0:起点(可以取到) 100：终点（终点取不到）， 5： 步长\n",
    "print(aranged)\n",
    "\n",
    "\n",
    "range1=np.arange(0,10,1)\n",
    "print(range1)"
   ]
  },
  {
   "cell_type": "markdown",
   "metadata": {},
   "source": [
    "## reshape： \n",
    "在实际操作中，我们可能希望把一个1\\*3的矩阵，或者3维的向量，变成3\\*1的矩阵或者向量"
   ]
  },
  {
   "cell_type": "code",
   "execution_count": 35,
   "metadata": {},
   "outputs": [
    {
     "name": "stdout",
     "output_type": "stream",
     "text": [
      "[1 2 3]\n",
      "[[1]\n",
      " [2]\n",
      " [3]]\n"
     ]
    }
   ],
   "source": [
    "a = np.array([1,2,3])   #(3,) ndarray\n",
    "a_reshape = a.reshape((3,1))   \n",
    "\n",
    "print(a)   \n",
    "print(a_reshape) "
   ]
  },
  {
   "cell_type": "code",
   "execution_count": 41,
   "metadata": {},
   "outputs": [
    {
     "name": "stdout",
     "output_type": "stream",
     "text": [
      "[0 1 2 3 4 5 6 7 8 9]\n",
      "[[0]\n",
      " [1]\n",
      " [2]\n",
      " [3]\n",
      " [4]\n",
      " [5]\n",
      " [6]\n",
      " [7]\n",
      " [8]\n",
      " [9]]\n"
     ]
    }
   ],
   "source": [
    "b=np.arange(0,10,1)\n",
    "b_reshape=b.reshape(-1,1) #column=1,rows 无所谓\n",
    "\n",
    "print(b)\n",
    "print(b_reshape)"
   ]
  },
  {
   "cell_type": "markdown",
   "metadata": {},
   "source": [
    "## 已经学过的三种表示一串数的对比"
   ]
  },
  {
   "cell_type": "code",
   "execution_count": 42,
   "metadata": {},
   "outputs": [
    {
     "name": "stdout",
     "output_type": "stream",
     "text": [
      "[1, 2, 3, 4, 5]\n"
     ]
    }
   ],
   "source": [
    "list_a = [1,2,3,4]  \n",
    "list_a.append(5) \n",
    "print(list_a)"
   ]
  },
  {
   "cell_type": "code",
   "execution_count": 12,
   "metadata": {},
   "outputs": [],
   "source": [
    "np_array_a = np.array([1,2,3,4]) "
   ]
  },
  {
   "cell_type": "code",
   "execution_count": 43,
   "metadata": {},
   "outputs": [
    {
     "name": "stdout",
     "output_type": "stream",
     "text": [
      "   ella  cool\n",
      "0     1     3\n",
      "1     2     4\n"
     ]
    }
   ],
   "source": [
    "import pandas as pd\n",
    "df = pd.DataFrame({'ella': [1, 2], 'cool': [3, 4]})\n",
    "print(df)\n"
   ]
  },
  {
   "cell_type": "code",
   "execution_count": null,
   "metadata": {},
   "outputs": [],
   "source": []
  }
 ],
 "metadata": {
  "kernelspec": {
   "display_name": "Python 3",
   "language": "python",
   "name": "python3"
  },
  "language_info": {
   "codemirror_mode": {
    "name": "ipython",
    "version": 3
   },
   "file_extension": ".py",
   "mimetype": "text/x-python",
   "name": "python",
   "nbconvert_exporter": "python",
   "pygments_lexer": "ipython3",
   "version": "3.6.8"
  }
 },
 "nbformat": 4,
 "nbformat_minor": 2
}
