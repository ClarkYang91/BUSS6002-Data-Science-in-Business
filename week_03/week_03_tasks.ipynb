{
 "cells": [
  {
   "cell_type": "code",
   "execution_count": 1,
   "metadata": {},
   "outputs": [],
   "source": [
    "%matplotlib inline\n",
    "import pandas as pd, matplotlib.pyplot as plt\n"
   ]
  },
  {
   "cell_type": "code",
   "execution_count": 2,
   "metadata": {},
   "outputs": [],
   "source": [
    "marketing = pd.read_csv('DirectMarketing.csv')"
   ]
  },
  {
   "cell_type": "code",
   "execution_count": 3,
   "metadata": {},
   "outputs": [
    {
     "data": {
      "text/plain": [
       "12    282\n",
       "6     252\n",
       "24    233\n",
       "18    233\n",
       "Name: Catalogs, dtype: int64"
      ]
     },
     "execution_count": 3,
     "metadata": {},
     "output_type": "execute_result"
    }
   ],
   "source": [
    "# Taks 1 Querying and Counting\n",
    "\n",
    "# 1. Print the count of each unique value in the Catalogs variable\n",
    "\n",
    "marketing['Catalogs'].value_counts()\n",
    "# marketing['Catalogs'].value_counts().sort_index()\n"
   ]
  },
  {
   "cell_type": "code",
   "execution_count": 4,
   "metadata": {},
   "outputs": [
    {
     "data": {
      "text/html": [
       "<div>\n",
       "<style scoped>\n",
       "    .dataframe tbody tr th:only-of-type {\n",
       "        vertical-align: middle;\n",
       "    }\n",
       "\n",
       "    .dataframe tbody tr th {\n",
       "        vertical-align: top;\n",
       "    }\n",
       "\n",
       "    .dataframe thead th {\n",
       "        text-align: right;\n",
       "    }\n",
       "</style>\n",
       "<table border=\"1\" class=\"dataframe\">\n",
       "  <thead>\n",
       "    <tr style=\"text-align: right;\">\n",
       "      <th></th>\n",
       "      <th>Age</th>\n",
       "      <th>Gender</th>\n",
       "      <th>OwnHome</th>\n",
       "      <th>Married</th>\n",
       "      <th>Location</th>\n",
       "      <th>Salary</th>\n",
       "      <th>Children</th>\n",
       "      <th>History</th>\n",
       "      <th>Catalogs</th>\n",
       "      <th>AmountSpent</th>\n",
       "    </tr>\n",
       "  </thead>\n",
       "  <tbody>\n",
       "    <tr>\n",
       "      <th>0</th>\n",
       "      <td>Old</td>\n",
       "      <td>Female</td>\n",
       "      <td>Own</td>\n",
       "      <td>Single</td>\n",
       "      <td>Far</td>\n",
       "      <td>47500</td>\n",
       "      <td>0</td>\n",
       "      <td>High</td>\n",
       "      <td>6</td>\n",
       "      <td>755</td>\n",
       "    </tr>\n",
       "    <tr>\n",
       "      <th>1</th>\n",
       "      <td>Middle</td>\n",
       "      <td>Male</td>\n",
       "      <td>Rent</td>\n",
       "      <td>Single</td>\n",
       "      <td>Close</td>\n",
       "      <td>63600</td>\n",
       "      <td>0</td>\n",
       "      <td>High</td>\n",
       "      <td>6</td>\n",
       "      <td>1318</td>\n",
       "    </tr>\n",
       "    <tr>\n",
       "      <th>2</th>\n",
       "      <td>Young</td>\n",
       "      <td>Female</td>\n",
       "      <td>Rent</td>\n",
       "      <td>Single</td>\n",
       "      <td>Close</td>\n",
       "      <td>13500</td>\n",
       "      <td>0</td>\n",
       "      <td>Low</td>\n",
       "      <td>18</td>\n",
       "      <td>296</td>\n",
       "    </tr>\n",
       "    <tr>\n",
       "      <th>3</th>\n",
       "      <td>Middle</td>\n",
       "      <td>Male</td>\n",
       "      <td>Own</td>\n",
       "      <td>Married</td>\n",
       "      <td>Close</td>\n",
       "      <td>85600</td>\n",
       "      <td>1</td>\n",
       "      <td>High</td>\n",
       "      <td>18</td>\n",
       "      <td>2436</td>\n",
       "    </tr>\n",
       "    <tr>\n",
       "      <th>4</th>\n",
       "      <td>Middle</td>\n",
       "      <td>Female</td>\n",
       "      <td>Own</td>\n",
       "      <td>Single</td>\n",
       "      <td>Close</td>\n",
       "      <td>68400</td>\n",
       "      <td>0</td>\n",
       "      <td>High</td>\n",
       "      <td>12</td>\n",
       "      <td>1304</td>\n",
       "    </tr>\n",
       "    <tr>\n",
       "      <th>...</th>\n",
       "      <td>...</td>\n",
       "      <td>...</td>\n",
       "      <td>...</td>\n",
       "      <td>...</td>\n",
       "      <td>...</td>\n",
       "      <td>...</td>\n",
       "      <td>...</td>\n",
       "      <td>...</td>\n",
       "      <td>...</td>\n",
       "      <td>...</td>\n",
       "    </tr>\n",
       "    <tr>\n",
       "      <th>995</th>\n",
       "      <td>Young</td>\n",
       "      <td>Female</td>\n",
       "      <td>Rent</td>\n",
       "      <td>Single</td>\n",
       "      <td>Close</td>\n",
       "      <td>19400</td>\n",
       "      <td>1</td>\n",
       "      <td>NaN</td>\n",
       "      <td>18</td>\n",
       "      <td>384</td>\n",
       "    </tr>\n",
       "    <tr>\n",
       "      <th>996</th>\n",
       "      <td>Middle</td>\n",
       "      <td>Male</td>\n",
       "      <td>Rent</td>\n",
       "      <td>Single</td>\n",
       "      <td>Far</td>\n",
       "      <td>40500</td>\n",
       "      <td>1</td>\n",
       "      <td>NaN</td>\n",
       "      <td>18</td>\n",
       "      <td>1073</td>\n",
       "    </tr>\n",
       "    <tr>\n",
       "      <th>997</th>\n",
       "      <td>Old</td>\n",
       "      <td>Male</td>\n",
       "      <td>Own</td>\n",
       "      <td>Single</td>\n",
       "      <td>Close</td>\n",
       "      <td>44800</td>\n",
       "      <td>0</td>\n",
       "      <td>Medium</td>\n",
       "      <td>24</td>\n",
       "      <td>1417</td>\n",
       "    </tr>\n",
       "    <tr>\n",
       "      <th>998</th>\n",
       "      <td>Middle</td>\n",
       "      <td>Male</td>\n",
       "      <td>Own</td>\n",
       "      <td>Married</td>\n",
       "      <td>Close</td>\n",
       "      <td>79000</td>\n",
       "      <td>2</td>\n",
       "      <td>Medium</td>\n",
       "      <td>18</td>\n",
       "      <td>671</td>\n",
       "    </tr>\n",
       "    <tr>\n",
       "      <th>999</th>\n",
       "      <td>Young</td>\n",
       "      <td>Male</td>\n",
       "      <td>Rent</td>\n",
       "      <td>Married</td>\n",
       "      <td>Close</td>\n",
       "      <td>53600</td>\n",
       "      <td>1</td>\n",
       "      <td>Medium</td>\n",
       "      <td>24</td>\n",
       "      <td>973</td>\n",
       "    </tr>\n",
       "  </tbody>\n",
       "</table>\n",
       "<p>1000 rows × 10 columns</p>\n",
       "</div>"
      ],
      "text/plain": [
       "        Age  Gender OwnHome  Married Location  Salary  Children History  \\\n",
       "0       Old  Female     Own   Single      Far   47500         0    High   \n",
       "1    Middle    Male    Rent   Single    Close   63600         0    High   \n",
       "2     Young  Female    Rent   Single    Close   13500         0     Low   \n",
       "3    Middle    Male     Own  Married    Close   85600         1    High   \n",
       "4    Middle  Female     Own   Single    Close   68400         0    High   \n",
       "..      ...     ...     ...      ...      ...     ...       ...     ...   \n",
       "995   Young  Female    Rent   Single    Close   19400         1     NaN   \n",
       "996  Middle    Male    Rent   Single      Far   40500         1     NaN   \n",
       "997     Old    Male     Own   Single    Close   44800         0  Medium   \n",
       "998  Middle    Male     Own  Married    Close   79000         2  Medium   \n",
       "999   Young    Male    Rent  Married    Close   53600         1  Medium   \n",
       "\n",
       "     Catalogs  AmountSpent  \n",
       "0           6          755  \n",
       "1           6         1318  \n",
       "2          18          296  \n",
       "3          18         2436  \n",
       "4          12         1304  \n",
       "..        ...          ...  \n",
       "995        18          384  \n",
       "996        18         1073  \n",
       "997        24         1417  \n",
       "998        18          671  \n",
       "999        24          973  \n",
       "\n",
       "[1000 rows x 10 columns]"
      ]
     },
     "execution_count": 4,
     "metadata": {},
     "output_type": "execute_result"
    }
   ],
   "source": [
    "marketing"
   ]
  },
  {
   "cell_type": "code",
   "execution_count": 5,
   "metadata": {},
   "outputs": [
    {
     "name": "stdout",
     "output_type": "stream",
     "text": [
      "616.6746031746031\n",
      "1017.854609929078\n",
      "1495.5450643776824\n",
      "1827.7725321888413\n"
     ]
    }
   ],
   "source": [
    "# 2 Print the average customer spending for each unique value of Catalogs received\n",
    "avg_customer_spending_catalogs_6 = marketing.query('Catalogs == 6')\n",
    "avg_customer_spending_catalogs_6['AmountSpent'].mean()\n",
    "\n",
    "avg_customer_spending_catalogs_12 = marketing.query('Catalogs == 12')\n",
    "avg_customer_spending_catalogs_12['AmountSpent'].mean()\n",
    "\n",
    "avg_customer_spending_catalogs_18 = marketing.query('Catalogs == 18')\n",
    "avg_customer_spending_catalogs_18['AmountSpent'].mean()\n",
    "\n",
    "avg_customer_spending_catalogs_24 = marketing.query('Catalogs == 24')\n",
    "avg_customer_spending_catalogs_24['AmountSpent'].mean()\n",
    "\n",
    "print(avg_customer_spending_catalogs_6['AmountSpent'].mean())\n",
    "print(avg_customer_spending_catalogs_12['AmountSpent'].mean())\n",
    "print(avg_customer_spending_catalogs_18['AmountSpent'].mean())\n",
    "print(avg_customer_spending_catalogs_24['AmountSpent'].mean())\n",
    "\n"
   ]
  },
  {
   "cell_type": "code",
   "execution_count": 6,
   "metadata": {},
   "outputs": [
    {
     "data": {
      "text/plain": [
       "Int64Index([12, 6, 24, 18], dtype='int64')"
      ]
     },
     "execution_count": 6,
     "metadata": {},
     "output_type": "execute_result"
    }
   ],
   "source": [
    "unique_catalogs = marketing['Catalogs'].value_counts().index\n",
    "unique_catalogs"
   ]
  },
  {
   "cell_type": "code",
   "execution_count": 7,
   "metadata": {
    "scrolled": true
   },
   "outputs": [
    {
     "name": "stdout",
     "output_type": "stream",
     "text": [
      "Mean for Catalogs 12 is:  1017.854609929078\n",
      "Mean for Catalogs 6 is:  616.6746031746031\n",
      "Mean for Catalogs 24 is:  1827.7725321888413\n",
      "Mean for Catalogs 18 is:  1495.5450643776824\n"
     ]
    }
   ],
   "source": [
    "# General methods\n",
    "for index in unique_catalogs:\n",
    "    filtered_data = marketing.query('Catalogs == @index')\n",
    "    print(f\"Mean for Catalogs {index} is: \", filtered_data['AmountSpent'].mean())"
   ]
  },
  {
   "cell_type": "code",
   "execution_count": 8,
   "metadata": {},
   "outputs": [
    {
     "data": {
      "text/plain": [
       "F_onewayResult(statistic=96.01899768505297, pvalue=1.3693342183192683e-54)"
      ]
     },
     "execution_count": 8,
     "metadata": {},
     "output_type": "execute_result"
    }
   ],
   "source": [
    "# 4 Potional Extension --- Statistical Test\n",
    "from scipy import stats\n",
    "\n",
    "# we use one_way ANOVA(单因素方差分析)，in this case, the factor is Catalogs amount\n",
    "\n",
    "stats.f_oneway(avg_customer_spending_catalogs_6['AmountSpent'],\n",
    "               avg_customer_spending_catalogs_12['AmountSpent'],\n",
    "               avg_customer_spending_catalogs_18['AmountSpent'],\n",
    "               avg_customer_spending_catalogs_24['AmountSpent'])\n"
   ]
  },
  {
   "cell_type": "markdown",
   "metadata": {},
   "source": [
    "<center><h1>BUSS6002 - Data Science in Business</h1></center>\n",
    "\n",
    "# Tutorial 3 Tasks\n",
    "\n",
    "Use ``DirectMarketing.csv``\n",
    "\n",
    "## Task 1 - Querying and Counting\n",
    "\n",
    "#### What is the relationship between customer spending and number of catalogs?\n",
    "\n",
    "*Following on from last week, we take another look at this relationship from another angle*\n",
    "\n",
    "1. Print the count of each unique value in the Catalogs variable\n",
    "2. Print the average customer spending for each unique value of Catalogs received\n",
    "3. Describe the relationship that you observe between Catalogs received and Amount Spent\n",
    "4. **Optional Extension**: Can you think of a statistical test that can be used to determine if there is a difference in the amount spent between the different catalog groups? Try to implement this. Common tests can be found in the scipy package https://docs.scipy.org/doc/scipy/reference/stats.html\n",
    "\n",
    "\n",
    "## Task 2 - Querying and Visualisation\n",
    "\n",
    "#### 2.1 What is the distribution of Customer Salary?\n",
    "\n",
    "Create a histogram of all customer's salary.\n",
    "\n",
    "<img src=\"img/salary_dist.png\" width=400>\n",
    "\n",
    "#### 2.2 What is the distribution of Salary for High Spending Customers?\n",
    "\n",
    "1. Create a histogram of customer salary for customers that spent more than $500$ dollars.\n",
    "2. Save this figure as a PDF\n",
    "\n",
    "<img src=\"img/big_spenders.png\" width=400>\n",
    "\n",
    "#### 2.3 Is the amount spent different for male and female customers?\n",
    "\n",
    "1. Create a single plot with two histograms, one of amount spent for male customers, the other for female customers\n",
    "2. Calculate and report the mean and variance of amount spent for both customer segments \n",
    "\n",
    "<img src=\"img/male_female.png\" width=400>"
   ]
  },
  {
   "cell_type": "code",
   "execution_count": 9,
   "metadata": {},
   "outputs": [
    {
     "data": {
      "image/png": "[encoded data removed]",
      "text/plain": [
       "<Figure size 432x288 with 1 Axes>"
      ]
     },
     "metadata": {
      "needs_background": "light"
     },
     "output_type": "display_data"
    }
   ],
   "source": [
    "# 2.1 Create a histogram of all customer's salary\n",
    "plt.hist(marketing['Salary'])\n",
    "\n",
    "plt.xlabel('Salary')\n",
    "plt.ylabel('Number of Customers')\n",
    "plt.title('Customer Salary Distribution')\n",
    "plt.show()"
   ]
  },
  {
   "cell_type": "code",
   "execution_count": 10,
   "metadata": {},
   "outputs": [
    {
     "data": {
      "image/png": "[encoded data removed]",
      "text/plain": [
       "<Figure size 432x288 with 1 Axes>"
      ]
     },
     "metadata": {
      "needs_background": "light"
     },
     "output_type": "display_data"
    }
   ],
   "source": [
    "# 2.2 \n",
    "# Create a histogram of customer salary for customers that spent more than  500  dollars.\n",
    "# Save this figure as a PDF\n",
    "\n",
    "big_spender = marketing[marketing['AmountSpent'] > 500]['Salary']\n",
    "\n",
    "\n",
    "plt.hist(big_spender)\n",
    "\n",
    "plt.title('Big Spenders - Salary Distribution')\n",
    "plt.xlabel('Salary')\n",
    "plt.ylabel('Number of Customer')\n",
    "plt.savefig('figure.pdf')\n",
    "\n",
    "plt.show()"
   ]
  },
  {
   "cell_type": "code",
   "execution_count": 12,
   "metadata": {},
   "outputs": [
    {
     "name": "stdout",
     "output_type": "stream",
     "text": [
      "The mean for male customer is 1412.8502024291497, and the variance is 946281.3771094923\n",
      "The mean for female customer is 1025.3399209486165, and the variance is 829063.0842249444\n"
     ]
    }
   ],
   "source": [
    "# 2.3 Is the amount spent different for male and female customers?\n",
    "\n",
    "# Create a single plot with two histograms, one of amount spent for male customers, the other for female customers\n",
    "# Calculate and report the mean and variance of amount spent for both customer segments\n",
    "male_customer = marketing[marketing['Gender'] == 'Male']\n",
    "female_customer = marketing[marketing['Gender'] == 'Female']\n",
    "\n",
    "male_mean = male_customer['AmountSpent'].mean()\n",
    "male_var = male_customer['AmountSpent'].var()\n",
    "\n",
    "female_mean = female_customer['AmountSpent'].mean()\n",
    "female_var = female_customer['AmountSpent'].var()\n",
    "\n",
    "\n",
    "print(f'The mean for male customer is {male_mean}, and the variance is {male_var}')\n",
    "print(f'The mean for female customer is {female_mean}, and the variance is {female_var}')\n",
    "\n",
    "\n",
    "\n"
   ]
  }
 ],
 "metadata": {
  "celltoolbar": "Raw Cell Format",
  "kernelspec": {
   "display_name": "Python 3",
   "language": "python",
   "name": "python3"
  },
  "language_info": {
   "codemirror_mode": {
    "name": "ipython",
    "version": 3
   },
   "file_extension": ".py",
   "mimetype": "text/x-python",
   "name": "python",
   "nbconvert_exporter": "python",
   "pygments_lexer": "ipython3",
   "version": "3.6.8"
  }
 },
 "nbformat": 4,
 "nbformat_minor": 2
}
